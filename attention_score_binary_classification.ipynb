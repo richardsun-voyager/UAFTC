{
 "cells": [
  {
   "cell_type": "markdown",
   "metadata": {},
   "source": [
    "## Load processed data"
   ]
  },
  {
   "cell_type": "code",
   "execution_count": 1,
   "metadata": {
    "collapsed": true
   },
   "outputs": [],
   "source": [
    "import yaml\n",
    "import numpy as np\n",
    "import torch\n",
    "from collections import Counter\n",
    "from torch import nn\n",
    "from matplotlib import pyplot as plt\n",
    "import torch.nn.functional as F\n",
    "%matplotlib inline\n",
    "import copy\n",
    "import argparse\n",
    "from helper import data_generator\n",
    "import sys; sys.argv=['']; del sys\n",
    "file = 'args/sst/sst_attn_simple.yaml'\n",
    "with open(file) as f:\n",
    "    args = yaml.load(f, Loader=yaml.Loader)\n",
    "    parser = argparse.ArgumentParser(description='attention')\n",
    "    config = parser.parse_args()\n",
    "    for k, v in args['common'].items():\n",
    "        setattr(config, k, v)"
   ]
  },
  {
   "cell_type": "code",
   "execution_count": 2,
   "metadata": {
    "collapsed": false
   },
   "outputs": [],
   "source": [
    "import pickle\n",
    "with open(config.dic_path, 'rb') as f:\n",
    "    vocab, word2id, id2word = pickle.load(f)"
   ]
  },
  {
   "cell_type": "code",
   "execution_count": 3,
   "metadata": {
    "collapsed": true
   },
   "outputs": [],
   "source": [
    "train_dg = data_generator(config, config.train_path)\n",
    "train_eval_dg = data_generator(config, config.train_path, False)\n",
    "dev_dg = data_generator(config, config.dev_path, False)\n",
    "test_dg = data_generator(config, config.test_path, False)"
   ]
  },
  {
   "cell_type": "code",
   "execution_count": 4,
   "metadata": {
    "collapsed": false
   },
   "outputs": [
    {
     "data": {
      "text/plain": [
       "16174"
      ]
     },
     "execution_count": 4,
     "metadata": {},
     "output_type": "execute_result"
    }
   ],
   "source": [
    "len(vocab)"
   ]
  },
  {
   "cell_type": "markdown",
   "metadata": {},
   "source": [
    "## Model"
   ]
  },
  {
   "cell_type": "code",
   "execution_count": 5,
   "metadata": {
    "collapsed": true
   },
   "outputs": [],
   "source": [
    "#scale = 1\n",
    "from attn_model import SimpleAttnClassifier"
   ]
  },
  {
   "cell_type": "code",
   "execution_count": 6,
   "metadata": {
    "collapsed": true
   },
   "outputs": [],
   "source": [
    "from sklearn.metrics import confusion_matrix, f1_score, recall_score, precision_score\n",
    "def evaluate(dg, model):\n",
    "    #Make prediction\n",
    "    model.eval()\n",
    "    count = 0\n",
    "    #record the gold and the prediction\n",
    "    gold_labels = []\n",
    "    pred_labels = []\n",
    "    dg.reset_samples()\n",
    "    while dg.index<dg.data_len:\n",
    "        sent_ids, label_list, sent_lens = next(dg.get_ids_samples())\n",
    "        outputs, _, _, _ =  model(sent_ids.to(device), sent_lens.to(device))\n",
    "        preds = (outputs>0.5).squeeze()\n",
    "\n",
    "        gold_labels += list(label_list.cpu().numpy())\n",
    "        pred_labels += list(preds.cpu().numpy())\n",
    "        num = (preds.cpu() == label_list.bool()).sum().cpu().item()\n",
    "        count += num\n",
    "        #print(num)\n",
    "    accuracy = count*1.0/dg.data_len\n",
    "    f1 = f1_score(gold_labels, pred_labels, average='binary')\n",
    "    precision = precision_score(gold_labels, pred_labels, average='binary')\n",
    "    recall = recall_score(gold_labels, pred_labels, average='binary')\n",
    "    print('Index', dg.index)\n",
    "    print('Evaluation accuracy:', accuracy)\n",
    "    return accuracy"
   ]
  },
  {
   "cell_type": "markdown",
   "metadata": {},
   "source": [
    "## Training"
   ]
  },
  {
   "cell_type": "code",
   "execution_count": 7,
   "metadata": {
    "collapsed": false
   },
   "outputs": [],
   "source": [
    "torch.manual_seed(222)\n",
    "loss_function = nn.BCELoss()\n",
    "scale = 10\n",
    "model = SimpleAttnClassifier(config.vocab_size, 100, 100, 1, scale)\n",
    "device = torch.device(\"cuda\") if torch.cuda.is_available() else torch.device(\"cpu\")\n",
    "model = model.to(device)\n",
    "optimizer = torch.optim.Adagrad(model.parameters(), lr=0.02, weight_decay=0.0000, lr_decay=0.001)"
   ]
  },
  {
   "cell_type": "code",
   "execution_count": 8,
   "metadata": {
    "collapsed": false
   },
   "outputs": [
    {
     "name": "stdout",
     "output_type": "stream",
     "text": [
      "Epoch: 0\n",
      "####################\n",
      "Sample Loss:0.695\n",
      "Sample Loss:0.620\n",
      "Index 6920\n",
      "Evaluation accuracy: 0.7566473988439306\n",
      "Dev Accuracy\n",
      "Index 872\n",
      "Evaluation accuracy: 0.7350917431192661\n",
      "Epoch: 1\n",
      "####################\n",
      "Sample Loss:0.599\n",
      "Sample Loss:0.482\n",
      "Index 6920\n",
      "Evaluation accuracy: 0.8228323699421966\n",
      "Dev Accuracy\n",
      "Index 872\n",
      "Evaluation accuracy: 0.768348623853211\n",
      "Epoch: 2\n",
      "####################\n",
      "Sample Loss:0.504\n",
      "Sample Loss:0.435\n",
      "Index 6920\n",
      "Evaluation accuracy: 0.8625722543352601\n",
      "Dev Accuracy\n",
      "Index 872\n",
      "Evaluation accuracy: 0.786697247706422\n",
      "Epoch: 3\n",
      "####################\n",
      "Sample Loss:0.407\n",
      "Sample Loss:0.315\n",
      "Index 6920\n",
      "Evaluation accuracy: 0.8854046242774567\n",
      "Dev Accuracy\n",
      "Index 872\n",
      "Evaluation accuracy: 0.7855504587155964\n",
      "Epoch: 4\n",
      "####################\n",
      "Sample Loss:0.376\n",
      "Sample Loss:0.276\n",
      "Index 6920\n",
      "Evaluation accuracy: 0.9030346820809249\n",
      "Dev Accuracy\n",
      "Index 872\n",
      "Evaluation accuracy: 0.7912844036697247\n",
      "Epoch: 5\n",
      "####################\n",
      "Sample Loss:0.291\n",
      "Sample Loss:0.327\n",
      "Index 6920\n",
      "Evaluation accuracy: 0.9160404624277456\n",
      "Dev Accuracy\n",
      "Index 872\n",
      "Evaluation accuracy: 0.7901376146788991\n",
      "Epoch: 6\n",
      "####################\n",
      "Sample Loss:0.252\n",
      "Sample Loss:0.296\n",
      "Index 6920\n",
      "Evaluation accuracy: 0.9260115606936417\n",
      "Dev Accuracy\n",
      "Index 872\n",
      "Evaluation accuracy: 0.7935779816513762\n",
      "Epoch: 7\n",
      "####################\n",
      "Sample Loss:0.274\n",
      "Sample Loss:0.325\n",
      "Index 6920\n",
      "Evaluation accuracy: 0.9342485549132948\n",
      "Dev Accuracy\n",
      "Index 872\n",
      "Evaluation accuracy: 0.8004587155963303\n",
      "Epoch: 8\n",
      "####################\n",
      "Sample Loss:0.229\n",
      "Sample Loss:0.217\n",
      "Index 6920\n",
      "Evaluation accuracy: 0.940606936416185\n",
      "Dev Accuracy\n",
      "Index 872\n",
      "Evaluation accuracy: 0.8004587155963303\n",
      "Epoch: 9\n",
      "####################\n",
      "Sample Loss:0.238\n",
      "Sample Loss:0.194\n",
      "Index 6920\n",
      "Evaluation accuracy: 0.9465317919075145\n",
      "Dev Accuracy\n",
      "Index 872\n",
      "Evaluation accuracy: 0.8004587155963303\n",
      "Epoch: 10\n",
      "####################\n",
      "Sample Loss:0.211\n",
      "Sample Loss:0.226\n",
      "Index 6920\n",
      "Evaluation accuracy: 0.9505780346820809\n",
      "Dev Accuracy\n",
      "Index 872\n",
      "Evaluation accuracy: 0.7981651376146789\n",
      "Epoch: 11\n",
      "####################\n",
      "Sample Loss:0.221\n",
      "Sample Loss:0.207\n",
      "Index 6920\n",
      "Evaluation accuracy: 0.9550578034682081\n",
      "Dev Accuracy\n",
      "Index 872\n",
      "Evaluation accuracy: 0.7958715596330275\n",
      "Epoch: 12\n",
      "####################\n",
      "Sample Loss:0.136\n",
      "Sample Loss:0.159\n",
      "Index 6920\n",
      "Evaluation accuracy: 0.9591040462427746\n",
      "Dev Accuracy\n",
      "Index 872\n",
      "Evaluation accuracy: 0.7981651376146789\n",
      "Epoch: 13\n",
      "####################\n",
      "Sample Loss:0.155\n",
      "Sample Loss:0.181\n",
      "Index 6920\n",
      "Evaluation accuracy: 0.9614161849710983\n",
      "Dev Accuracy\n",
      "Index 872\n",
      "Evaluation accuracy: 0.7981651376146789\n",
      "Epoch: 14\n",
      "####################\n",
      "Sample Loss:0.175\n",
      "Sample Loss:0.122\n",
      "Index 6920\n",
      "Evaluation accuracy: 0.9634393063583815\n",
      "Dev Accuracy\n",
      "Index 872\n",
      "Evaluation accuracy: 0.7947247706422018\n",
      "Epoch: 15\n",
      "####################\n",
      "Sample Loss:0.185\n",
      "Sample Loss:0.164\n",
      "Index 6920\n",
      "Evaluation accuracy: 0.9648843930635839\n",
      "Dev Accuracy\n",
      "Index 872\n",
      "Evaluation accuracy: 0.7935779816513762\n",
      "Epoch: 16\n",
      "####################\n",
      "Sample Loss:0.164\n",
      "Sample Loss:0.141\n",
      "Index 6920\n",
      "Evaluation accuracy: 0.9666184971098266\n",
      "Dev Accuracy\n",
      "Index 872\n",
      "Evaluation accuracy: 0.7947247706422018\n",
      "Epoch: 17\n",
      "####################\n",
      "Sample Loss:0.248\n",
      "Sample Loss:0.176\n",
      "Index 6920\n",
      "Evaluation accuracy: 0.9690751445086705\n",
      "Dev Accuracy\n",
      "Index 872\n",
      "Evaluation accuracy: 0.7947247706422018\n",
      "Epoch: 18\n",
      "####################\n",
      "Sample Loss:0.119\n",
      "Sample Loss:0.143\n",
      "Index 6920\n",
      "Evaluation accuracy: 0.9706647398843931\n",
      "Dev Accuracy\n",
      "Index 872\n",
      "Evaluation accuracy: 0.7947247706422018\n",
      "Epoch: 19\n",
      "####################\n",
      "Sample Loss:0.145\n",
      "Sample Loss:0.202\n",
      "Index 6920\n",
      "Evaluation accuracy: 0.9728323699421966\n",
      "Dev Accuracy\n",
      "Index 872\n",
      "Evaluation accuracy: 0.7981651376146789\n",
      "Epoch: 20\n",
      "####################\n",
      "Sample Loss:0.137\n",
      "Sample Loss:0.118\n",
      "Index 6920\n",
      "Evaluation accuracy: 0.9736994219653179\n",
      "Dev Accuracy\n",
      "Index 872\n",
      "Evaluation accuracy: 0.7970183486238532\n",
      "Epoch: 21\n",
      "####################\n",
      "Sample Loss:0.141\n",
      "Sample Loss:0.124\n",
      "Index 6920\n",
      "Evaluation accuracy: 0.9747109826589595\n",
      "Dev Accuracy\n",
      "Index 872\n",
      "Evaluation accuracy: 0.7970183486238532\n",
      "Epoch: 22\n",
      "####################\n",
      "Sample Loss:0.154\n",
      "Sample Loss:0.126\n",
      "Index 6920\n",
      "Evaluation accuracy: 0.9755780346820809\n",
      "Dev Accuracy\n",
      "Index 872\n",
      "Evaluation accuracy: 0.7958715596330275\n",
      "Epoch: 23\n",
      "####################\n",
      "Sample Loss:0.115\n",
      "Sample Loss:0.113\n",
      "Index 6920\n",
      "Evaluation accuracy: 0.9764450867052024\n",
      "Dev Accuracy\n",
      "Index 872\n",
      "Evaluation accuracy: 0.7947247706422018\n",
      "Epoch: 24\n",
      "####################\n",
      "Sample Loss:0.116\n",
      "Sample Loss:0.109\n",
      "Index 6920\n",
      "Evaluation accuracy: 0.9771676300578035\n",
      "Dev Accuracy\n",
      "Index 872\n",
      "Evaluation accuracy: 0.7935779816513762\n",
      "Epoch: 25\n",
      "####################\n",
      "Sample Loss:0.132\n",
      "Sample Loss:0.108\n",
      "Index 6920\n",
      "Evaluation accuracy: 0.9778901734104046\n",
      "Dev Accuracy\n",
      "Index 872\n",
      "Evaluation accuracy: 0.7935779816513762\n",
      "Epoch: 26\n",
      "####################\n",
      "Sample Loss:0.109\n",
      "Sample Loss:0.118\n",
      "Index 6920\n",
      "Evaluation accuracy: 0.9787572254335261\n",
      "Dev Accuracy\n",
      "Index 872\n",
      "Evaluation accuracy: 0.7912844036697247\n",
      "Epoch: 27\n",
      "####################\n",
      "Sample Loss:0.075\n",
      "Sample Loss:0.106\n",
      "Index 6920\n",
      "Evaluation accuracy: 0.9793352601156069\n",
      "Dev Accuracy\n",
      "Index 872\n",
      "Evaluation accuracy: 0.7901376146788991\n",
      "Epoch: 28\n",
      "####################\n",
      "Sample Loss:0.113\n",
      "Sample Loss:0.116\n",
      "Index 6920\n",
      "Evaluation accuracy: 0.9797687861271677\n",
      "Dev Accuracy\n",
      "Index 872\n",
      "Evaluation accuracy: 0.7889908256880734\n",
      "Epoch: 29\n",
      "####################\n",
      "Sample Loss:0.104\n",
      "Sample Loss:0.104\n",
      "Index 6920\n",
      "Evaluation accuracy: 0.9809248554913295\n",
      "Dev Accuracy\n",
      "Index 872\n",
      "Evaluation accuracy: 0.7889908256880734\n",
      "Epoch: 30\n",
      "####################\n",
      "Sample Loss:0.119\n",
      "Sample Loss:0.102\n",
      "Index 6920\n",
      "Evaluation accuracy: 0.9817919075144509\n",
      "Dev Accuracy\n",
      "Index 872\n",
      "Evaluation accuracy: 0.7889908256880734\n",
      "Epoch: 31\n",
      "####################\n",
      "Sample Loss:0.091\n",
      "Sample Loss:0.081\n",
      "Index 6920\n",
      "Evaluation accuracy: 0.9822254335260115\n",
      "Dev Accuracy\n",
      "Index 872\n",
      "Evaluation accuracy: 0.7901376146788991\n",
      "Epoch: 32\n",
      "####################\n",
      "Sample Loss:0.125\n",
      "Sample Loss:0.092\n",
      "Index 6920\n",
      "Evaluation accuracy: 0.9826589595375722\n",
      "Dev Accuracy\n",
      "Index 872\n",
      "Evaluation accuracy: 0.7901376146788991\n",
      "Epoch: 33\n",
      "####################\n",
      "Sample Loss:0.088\n",
      "Sample Loss:0.111\n",
      "Index 6920\n",
      "Evaluation accuracy: 0.9833815028901735\n",
      "Dev Accuracy\n",
      "Index 872\n",
      "Evaluation accuracy: 0.7878440366972477\n",
      "Epoch: 34\n",
      "####################\n",
      "Sample Loss:0.091\n",
      "Sample Loss:0.075\n",
      "Index 6920\n",
      "Evaluation accuracy: 0.9838150289017341\n",
      "Dev Accuracy\n",
      "Index 872\n",
      "Evaluation accuracy: 0.786697247706422\n",
      "Epoch: 35\n",
      "####################\n",
      "Sample Loss:0.130\n",
      "Sample Loss:0.124\n",
      "Index 6920\n",
      "Evaluation accuracy: 0.9841040462427746\n",
      "Dev Accuracy\n",
      "Index 872\n",
      "Evaluation accuracy: 0.7844036697247706\n",
      "Epoch: 36\n",
      "####################\n",
      "Sample Loss:0.062\n",
      "Sample Loss:0.095\n",
      "Index 6920\n",
      "Evaluation accuracy: 0.9845375722543352\n",
      "Dev Accuracy\n",
      "Index 872\n",
      "Evaluation accuracy: 0.7844036697247706\n",
      "Epoch: 37\n",
      "####################\n",
      "Sample Loss:0.091\n",
      "Sample Loss:0.072\n",
      "Index 6920\n",
      "Evaluation accuracy: 0.9848265895953757\n",
      "Dev Accuracy\n",
      "Index 872\n",
      "Evaluation accuracy: 0.7844036697247706\n",
      "Epoch: 38\n",
      "####################\n",
      "Sample Loss:0.077\n",
      "Sample Loss:0.060\n",
      "Index 6920\n",
      "Evaluation accuracy: 0.9854046242774567\n",
      "Dev Accuracy\n",
      "Index 872\n",
      "Evaluation accuracy: 0.7844036697247706\n",
      "Epoch: 39\n",
      "####################\n",
      "Sample Loss:0.084\n",
      "Sample Loss:0.079\n",
      "Index 6920\n",
      "Evaluation accuracy: 0.9856936416184972\n",
      "Dev Accuracy\n",
      "Index 872\n",
      "Evaluation accuracy: 0.7844036697247706\n"
     ]
    }
   ],
   "source": [
    "loop_num = int(train_dg.data_len/config.batch_size)+1\n",
    "best_model = None\n",
    "best_acc = 0\n",
    "for i in range(40):\n",
    "    print('Epoch:', i)\n",
    "    print('#'*20)\n",
    "\n",
    "    total_loss = 0\n",
    "    model.train()\n",
    "    #shuffle the training set given the random seed\n",
    "    train_dg.shuffle_data()\n",
    "    #sequential sampling, use all the dataset\n",
    "    train_dg.reset_samples()\n",
    "    #model.embeddings.required_grad = config.update_emb\n",
    "    for j in range(loop_num):\n",
    "        model.zero_grad()\n",
    "        # generate dataset\n",
    "        sent_ids,  label_list, sent_lens = next(train_dg.get_sequential_ids_samples())\n",
    "        ####check whether the seed works\n",
    "        #if (i<2)&(j==0):\n",
    "            #print(sent_ids)\n",
    "        preds, _, _, _ =  model(sent_ids.to(device), sent_lens.to(device))\n",
    "        temp = model.decoder(model.V.transpose(0, 1))\n",
    "        loss = loss_function(preds.squeeze(), label_list.to(device).float())#+ 0.0001*temp[0, 0].abs()\n",
    "        #loss = loss_function(preds.squeeze(), label_list.to(device).float())\n",
    "\n",
    "        # Do the backward pass and update the gradient\n",
    "        loss.backward()\n",
    "        optimizer.step()\n",
    "\n",
    "        # Get the Python number from a 1-element Tensor by calling tensor.item()\n",
    "        total_loss += loss.cpu().item()*len(sent_ids)\n",
    "        if j%50 == 0:\n",
    "            l = loss.cpu().item()\n",
    "            print('Sample Loss:{:.3f}'.format(l))\n",
    "\n",
    "    #Dev Evaluation\n",
    "#     print('Training Accuracy')\n",
    "    evaluate(train_eval_dg, model)\n",
    "    print('Dev Accuracy')\n",
    "    dev_acc = evaluate(dev_dg, model)\n",
    "    if best_acc < dev_acc:\n",
    "        best_acc = dev_acc\n",
    "        best_model = copy.deepcopy(model)"
   ]
  },
  {
   "cell_type": "code",
   "execution_count": 9,
   "metadata": {
    "collapsed": false
   },
   "outputs": [
    {
     "name": "stdout",
     "output_type": "stream",
     "text": [
      "Best dev: 0.8004587155963303\n",
      "Index 1821\n",
      "Evaluation accuracy: 0.8182317408017573\n"
     ]
    }
   ],
   "source": [
    "#Test performance       \n",
    "print('Best dev:', best_acc)\n",
    "test_acc = evaluate(test_dg, best_model)"
   ]
  },
  {
   "cell_type": "markdown",
   "metadata": {},
   "source": [
    "## Select Tokens\n",
    "We will select polarity tokens as well as neutral tokens based on their frequency across different types of instances."
   ]
  },
  {
   "cell_type": "code",
   "execution_count": 18,
   "metadata": {
    "collapsed": true
   },
   "outputs": [],
   "source": [
    "texts, labels = zip(*train_dg.data_batch)\n",
    "text_length = [len(t) for t in texts]"
   ]
  },
  {
   "cell_type": "code",
   "execution_count": 19,
   "metadata": {
    "collapsed": true
   },
   "outputs": [],
   "source": [
    "#Calculate the times that a token appears in a specified label"
   ]
  },
  {
   "cell_type": "code",
   "execution_count": 20,
   "metadata": {
    "collapsed": true
   },
   "outputs": [],
   "source": [
    "word_label_pair = []\n",
    "word_doc_freq = {}\n",
    "vocab = []\n",
    "for i, text in enumerate(texts):\n",
    "    for w in text:\n",
    "        word_doc_freq[w] = word_doc_freq.get(w, 0) + 1\n",
    "        \n",
    "for i, text in enumerate(texts):\n",
    "    label = labels[i]\n",
    "    for w in text:\n",
    "        word_doc_freq[w] = word_doc_freq.get(w, 0) + 1\n",
    "    word_label_pair += [(id2word[item], label) for item in text]\n",
    "    vocab += [id2word[item] for item in text]\n",
    "vocab = set(vocab)"
   ]
  },
  {
   "cell_type": "code",
   "execution_count": 21,
   "metadata": {
    "collapsed": true
   },
   "outputs": [],
   "source": [
    "word_label_pair_freq = Counter(word_label_pair)\n",
    "#Get the ratio, a word appears in positive sentences: a word appears in negative sentences\n",
    "token_freq_pos = {}\n",
    "token_freq_neg = {}\n",
    "pos_tokens = []\n",
    "neg_tokens = []\n",
    "neutral_tokens = []\n",
    "total_diff_freq = 0\n",
    "#Note here, 1 means positive and 0 means negative\n",
    "for w in vocab:\n",
    "    freq_pos = word_label_pair_freq[(w, 1)]\n",
    "    freq_neg = word_label_pair_freq[(w, 0)]\n",
    "    token_freq_pos[word2id[w]] = freq_pos\n",
    "    token_freq_neg[word2id[w]] = freq_neg\n",
    "\n",
    "    if freq_pos-freq_neg !=0:\n",
    "        #We use 10\n",
    "        rate = (freq_pos-freq_neg)/(freq_pos+freq_neg)*1.0\n",
    "        if rate>0.5 and freq_pos>5:#positive tokens\n",
    "            pos_tokens.append(w)\n",
    "        if rate<-0.5 and freq_neg>5:\n",
    "            neg_tokens.append(w)\n",
    "\n",
    "    if abs(freq_pos-freq_neg)/(freq_pos+freq_neg)<0.1 and abs(freq_pos-freq_neg)<5:\n",
    "        neutral_tokens.append(w)"
   ]
  },
  {
   "cell_type": "code",
   "execution_count": 22,
   "metadata": {
    "collapsed": true
   },
   "outputs": [],
   "source": [
    "#print(pos_tokens)"
   ]
  },
  {
   "cell_type": "code",
   "execution_count": 23,
   "metadata": {
    "collapsed": false
   },
   "outputs": [
    {
     "name": "stdout",
     "output_type": "stream",
     "text": [
      "412 265 1384\n"
     ]
    }
   ],
   "source": [
    "print(len(pos_tokens), len(neg_tokens), len(neutral_tokens))"
   ]
  },
  {
   "cell_type": "code",
   "execution_count": 24,
   "metadata": {
    "collapsed": true
   },
   "outputs": [],
   "source": [
    "pos_tokens_index = [word2id[w] for w in pos_tokens]\n",
    "neg_tokens_index = [word2id[w] for w in neg_tokens]\n",
    "neutral_tokens_index = [word2id[w] for w in neutral_tokens]\n",
    "pos_tokens_index_label1 = [token_freq_pos[w] for w in pos_tokens_index]\n",
    "pos_tokens_index_label0 = [token_freq_neg[w] for w in pos_tokens_index]\n",
    "pos_tokens_index_diff = [token_freq_pos[w]-token_freq_neg[w] for w in pos_tokens_index]\n",
    "\n",
    "neg_tokens_index_label1 = [token_freq_pos[w] for w in pos_tokens_index]\n",
    "neg_tokens_index_label0 = [token_freq_neg[w] for w in pos_tokens_index]\n",
    "neg_tokens_index_diff = [token_freq_pos[w]-token_freq_neg[w] for w in neg_tokens_index]"
   ]
  },
  {
   "cell_type": "markdown",
   "metadata": {},
   "source": [
    "## Visualization"
   ]
  },
  {
   "cell_type": "code",
   "execution_count": 29,
   "metadata": {
    "collapsed": true
   },
   "outputs": [],
   "source": [
    "def get_sentiment_scores(model, pos_tokens_index, neg_tokens_index, neutral_tokens_index):\n",
    "    pos_token_sentiment_score = []\n",
    "    for w in pos_tokens_index:\n",
    "        seq_embs = model.embeddings(torch.LongTensor([w]).to(device))                        \n",
    "        hidden_vecs = model.affine(seq_embs)\n",
    "        hidden_vecs = seq_embs\n",
    "        pos_token_sentiment_score.append(model.decoder(hidden_vecs).item())\n",
    "\n",
    "    neg_token_sentiment_score = []\n",
    "    for w in neg_tokens_index:\n",
    "        seq_embs = model.embeddings(torch.LongTensor([w]).to(device))                        \n",
    "        hidden_vecs = model.affine(seq_embs)\n",
    "        hidden_vecs = seq_embs\n",
    "        neg_token_sentiment_score.append(model.decoder(hidden_vecs).item())\n",
    "\n",
    "    neutral_token_sentimetn_score = []\n",
    "    for w in neutral_tokens_index:\n",
    "        seq_embs = model.embeddings(torch.LongTensor([w]).to(device))                        \n",
    "        hidden_vecs = model.affine(seq_embs)\n",
    "        hidden_vecs = seq_embs\n",
    "        neutral_token_sentimetn_score.append(model.decoder(hidden_vecs).item())\n",
    "\n",
    "    plt.plot(pos_tokens_index, pos_token_sentiment_score, '+',label='Pos')\n",
    "    plt.plot(neg_tokens_index, neg_token_sentiment_score, '.', label='Neg')\n",
    "    plt.plot(neutral_tokens_index, neutral_token_sentimetn_score, 'x', label='Neutral')\n",
    "    plt.xlabel('Token Index')\n",
    "    plt.ylabel('Polarity Score')\n",
    "    plt.grid(linestyle='--')\n",
    "    plt.legend()\n",
    "    return pos_token_sentiment_score, neg_token_sentiment_score, neutral_token_sentimetn_score"
   ]
  },
  {
   "cell_type": "code",
   "execution_count": 42,
   "metadata": {
    "collapsed": true
   },
   "outputs": [],
   "source": [
    "def get_attn_scores(model, pos_tokens_index, neg_tokens_index, neutral_tokens_index):\n",
    "    pos_token_attn_score = []\n",
    "    for w in pos_tokens_index:\n",
    "        seq_embs = model.embeddings(torch.LongTensor([w]).to(device))                        \n",
    "        hidden_vecs = model.affine(seq_embs)\n",
    "        #hidden_vecs = torch.tanh(model.attn_linear(hidden_vecs))\n",
    "        hidden_vecs = seq_embs\n",
    "        attn_score = torch.matmul(hidden_vecs, model.V)\n",
    "        #attn_score = torch.matmul(hidden_vecs, model.decoder.weight.transpose(0, 1))\n",
    "        pos_token_attn_score.append(attn_score[0].item()/scale)\n",
    "\n",
    "    neg_token_attn_score = []\n",
    "    for w in neg_tokens_index:\n",
    "        seq_embs = model.embeddings(torch.LongTensor([w]).to(device))                        \n",
    "        hidden_vecs = model.affine(seq_embs)\n",
    "        #hidden_vecs = torch.tanh(model.attn_linear(hidden_vecs))\n",
    "        hidden_vecs = seq_embs\n",
    "        attn_score = torch.matmul(hidden_vecs, model.V)\n",
    "        #attn_score = torch.matmul(hidden_vecs, model.decoder.weight.transpose(0, 1))\n",
    "        neg_token_attn_score.append(attn_score[0].item()/scale)\n",
    "\n",
    "    neutral_token_attn_score = []\n",
    "    for w in neutral_tokens_index:\n",
    "        seq_embs = model.embeddings(torch.LongTensor([w]).to(device))                        \n",
    "        hidden_vecs = model.affine(seq_embs)\n",
    "        #hidden_vecs = torch.tanh(model.attn_linear(hidden_vecs))\n",
    "        hidden_vecs = seq_embs\n",
    "        attn_score = torch.matmul(hidden_vecs, model.V)\n",
    "        #attn_score = torch.matmul(hidden_vecs, model.decoder.weight.transpose(0, 1))\n",
    "        neutral_token_attn_score.append(attn_score[0].item()/scale)\n",
    "        \n",
    "    plt.plot(pos_tokens_index, pos_token_attn_score, '+',label='Pos')\n",
    "    plt.plot(neg_tokens_index, neg_token_attn_score, '.', label='Neg')\n",
    "    plt.plot(neutral_tokens_index, neutral_token_attn_score, 'x', label='Neutral')\n",
    "\n",
    "    plt.xlabel('Token Index')\n",
    "    plt.ylabel('Attention Score')\n",
    "    plt.grid(linestyle='--')\n",
    "\n",
    "    plt.legend()\n",
    "    return pos_token_attn_score, neg_token_attn_score, neutral_token_attn_score"
   ]
  },
  {
   "cell_type": "code",
   "execution_count": 31,
   "metadata": {
    "collapsed": true
   },
   "outputs": [],
   "source": [
    "#torch.save(best_model,'imgs/sst_scores_img/best_model_10.pt' )"
   ]
  },
  {
   "cell_type": "code",
   "execution_count": 32,
   "metadata": {
    "collapsed": false
   },
   "outputs": [
    {
     "data": {
      "image/png": "[encoded data removed]",
      "text/plain": [
       "<Figure size 432x288 with 1 Axes>"
      ]
     },
     "metadata": {},
     "output_type": "display_data"
    }
   ],
   "source": [
    "_ = get_sentiment_scores(best_model, pos_tokens_index, neg_tokens_index, neutral_tokens_index)"
   ]
  },
  {
   "cell_type": "code",
   "execution_count": 33,
   "metadata": {
    "collapsed": false
   },
   "outputs": [
    {
     "data": {
      "image/png": "[encoded data removed]",
      "text/plain": [
       "<Figure size 432x288 with 1 Axes>"
      ]
     },
     "metadata": {},
     "output_type": "display_data"
    }
   ],
   "source": [
    "_, _, neutral_token_attn_score= get_attn_scores(best_model, pos_tokens_index, neg_tokens_index, neutral_tokens_index)"
   ]
  },
  {
   "cell_type": "markdown",
   "metadata": {},
   "source": [
    "## Calculate attention weights"
   ]
  },
  {
   "cell_type": "code",
   "execution_count": 34,
   "metadata": {
    "collapsed": true
   },
   "outputs": [],
   "source": [
    "dg = test_dg\n",
    "dg.reset_samples()\n",
    "model.eval()\n",
    "  \n",
    "best_model.eval()\n",
    "def generate_weights(dg, model):\n",
    "    #model.embeddings.required_grad = config.update_emb\n",
    "    important_word_inds = []\n",
    "    token_attn_weights = {}  \n",
    "    while dg.index<dg.data_len:\n",
    "        # generate dataset\n",
    "        sent_ids,  label_list, sent_lens = next(dg.get_sequential_ids_samples())\n",
    "        ####check whether the seed works\n",
    "        #if (i<2)&(j==0):\n",
    "            #print(sent_ids)\n",
    "        preds, _, attn, _ =  best_model(sent_ids.to(device), sent_lens.to(device))\n",
    "        for i in range(len(sent_ids)):\n",
    "            for j in range(sent_lens[i]):\n",
    "                w = sent_ids[i, j].item()\n",
    "                token_attn_weights[w] = token_attn_weights.get(w, []) + [attn[i, 0, j].item()]\n",
    "        #Get important words\n",
    "        values, indices = torch.topk(attn.squeeze(1), k=2, dim=1, largest=True, sorted=True, out=None)\n",
    "        for i in range(len(indices)):\n",
    "            important_word_inds += list(sent_ids[i][indices[i]].numpy())\n",
    "    return token_attn_weights"
   ]
  },
  {
   "cell_type": "code",
   "execution_count": 151,
   "metadata": {
    "collapsed": true
   },
   "outputs": [],
   "source": [
    "# important_words = [id2word[item] for item in important_word_inds]\n",
    "# from collections import Counter\n",
    "# import_word_freq = Counter(important_words)"
   ]
  },
  {
   "cell_type": "code",
   "execution_count": 35,
   "metadata": {
    "collapsed": true
   },
   "outputs": [],
   "source": [
    "token_attn_weights = generate_weights(test_dg, best_model)"
   ]
  },
  {
   "cell_type": "code",
   "execution_count": 36,
   "metadata": {
    "collapsed": true
   },
   "outputs": [],
   "source": [
    "avg_pos_attn_weights = {}\n",
    "for w in pos_tokens_index:\n",
    "    if w in token_attn_weights.keys():\n",
    "        avg_pos_attn_weights[w] = np.mean(token_attn_weights[w])"
   ]
  },
  {
   "cell_type": "code",
   "execution_count": 37,
   "metadata": {
    "collapsed": true
   },
   "outputs": [],
   "source": [
    "avg_neg_attn_weights = {}\n",
    "for w in neg_tokens_index:\n",
    "    if w in token_attn_weights.keys():\n",
    "        avg_neg_attn_weights[w] = np.mean(token_attn_weights[w])"
   ]
  },
  {
   "cell_type": "code",
   "execution_count": 38,
   "metadata": {
    "collapsed": true
   },
   "outputs": [],
   "source": [
    "avg_neutral_attn_weights = {}\n",
    "for w in neutral_tokens_index:\n",
    "    if w in token_attn_weights.keys():\n",
    "        avg_neutral_attn_weights[w] = np.mean(token_attn_weights[w])"
   ]
  },
  {
   "cell_type": "code",
   "execution_count": null,
   "metadata": {
    "collapsed": true
   },
   "outputs": [],
   "source": []
  },
  {
   "cell_type": "code",
   "execution_count": 39,
   "metadata": {
    "collapsed": false
   },
   "outputs": [
    {
     "data": {
      "text/plain": [
       "<matplotlib.legend.Legend at 0x12c0c9240>"
      ]
     },
     "execution_count": 39,
     "metadata": {},
     "output_type": "execute_result"
    },
    {
     "data": {
      "image/png": "[encoded data removed]",
      "text/plain": [
       "<Figure size 432x288 with 1 Axes>"
      ]
     },
     "metadata": {},
     "output_type": "display_data"
    }
   ],
   "source": [
    "data = []\n",
    "keys, avg_weights = zip(*avg_pos_attn_weights.items())\n",
    "data += [avg_weights]\n",
    "plt.plot(keys, avg_weights, '+', label='pos')\n",
    "keys, avg_weights = zip(*avg_neg_attn_weights.items())\n",
    "data += [avg_weights]\n",
    "plt.plot(keys, avg_weights, '+', label='neg')\n",
    "keys, avg_weights = zip(*avg_neutral_attn_weights.items())\n",
    "data += [avg_weights]\n",
    "plt.plot(keys, avg_weights, '+', label='neutral')\n",
    "plt.legend()"
   ]
  },
  {
   "cell_type": "code",
   "execution_count": 41,
   "metadata": {
    "collapsed": false
   },
   "outputs": [
    {
     "data": {
      "text/plain": [
       "Text(0,0.5,'Average Attention Weight')"
      ]
     },
     "execution_count": 41,
     "metadata": {},
     "output_type": "execute_result"
    },
    {
     "data": {
      "image/png": "[encoded data removed]",
      "text/plain": [
       "<Figure size 432x288 with 1 Axes>"
      ]
     },
     "metadata": {},
     "output_type": "display_data"
    }
   ],
   "source": [
    "plt.boxplot(data)\n",
    "plt.grid(linestyle='--')\n",
    "plt.xticks([1, 2, 3], ['Pos', 'Neg', 'Neutral'])\n",
    "plt.ylabel('Average Attention Weight')\n",
    "#plt.savefig(\"imgs/sst_scores_img/sst_attn_weight_d\"+str(scale)+\".pdf\",  dpi=900)"
   ]
  },
  {
   "cell_type": "code",
   "execution_count": null,
   "metadata": {
    "collapsed": true
   },
   "outputs": [],
   "source": []
  }
 ],
 "metadata": {
  "kernelspec": {
   "display_name": "Python 3",
   "language": "python",
   "name": "python3"
  },
  "language_info": {
   "codemirror_mode": {
    "name": "ipython",
    "version": 3
   },
   "file_extension": ".py",
   "mimetype": "text/x-python",
   "name": "python",
   "nbconvert_exporter": "python",
   "pygments_lexer": "ipython3",
   "version": "3.6.7"
  }
 },
 "nbformat": 4,
 "nbformat_minor": 2
}
